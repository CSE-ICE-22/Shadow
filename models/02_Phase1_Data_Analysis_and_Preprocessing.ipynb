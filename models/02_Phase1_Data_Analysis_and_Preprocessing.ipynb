{
 "cells": [
  {
   "cell_type": "code",
   "execution_count": null,
   "id": "788fd71a",
   "metadata": {},
   "outputs": [
    {
     "ename": "ModuleNotFoundError",
     "evalue": "No module named 'numpy'",
     "output_type": "error",
     "traceback": [
      "\u001b[31m---------------------------------------------------------------------------\u001b[39m",
      "\u001b[31mModuleNotFoundError\u001b[39m                       Traceback (most recent call last)",
      "\u001b[36mCell\u001b[39m\u001b[36m \u001b[39m\u001b[32mIn[4]\u001b[39m\u001b[32m, line 2\u001b[39m\n\u001b[32m      1\u001b[39m \u001b[38;5;28;01mimport\u001b[39;00m\u001b[38;5;250m \u001b[39m\u001b[34;01mpickle\u001b[39;00m\n\u001b[32m----> \u001b[39m\u001b[32m2\u001b[39m \u001b[38;5;28;01mimport\u001b[39;00m\u001b[38;5;250m \u001b[39m\u001b[34;01mnumpy\u001b[39;00m\u001b[38;5;250m \u001b[39m\u001b[38;5;28;01mas\u001b[39;00m\u001b[38;5;250m \u001b[39m\u001b[34;01mnp\u001b[39;00m\n\u001b[32m      5\u001b[39m \u001b[38;5;66;03m# Path to your file\u001b[39;00m\n\u001b[32m      6\u001b[39m pkl_path = \u001b[33m\"\u001b[39m\u001b[33m./data/raw/S2.pkl\u001b[39m\u001b[33m\"\u001b[39m  \n",
      "\u001b[31mModuleNotFoundError\u001b[39m: No module named 'numpy'"
     ]
    }
   ],
   "source": [
    "import pickle\n",
    "\n",
    "\n",
    "\n",
    "\n",
    "# Path to your file\n",
    "pkl_path = \"./data/raw/S2.pkl\"  \n",
    "\n",
    "# Load the pickle file\n",
    "with open(pkl_path, \"rb\") as f:\n",
    "    data = pickle.load(f, encoding=\"latin1\")\n",
    "\n",
    "# Print top-level keys\n",
    "print(\"Top-level keys:\", data.keys())\n",
    "\n",
    "# Explore 'signal'\n",
    "print(\"\\nSignal keys:\", data['signal'].keys())\n",
    "\n",
    "# Explore 'wrist' (E4)\n",
    "print(\"\\nWrist (E4) keys:\", data['signal']['wrist'].keys())\n",
    "\n",
    "# Example: Shape of BVP\n",
    "print(\"\\nBVP shape:\", data['signal']['wrist']['BVP'].shape)\n",
    "\n",
    "# Example: Labels info\n",
    "print(\"\\nLabel unique values:\", set(data['label']))\n",
    "print(\"Label shape:\", data['label'].shape)\n"
   ]
  },
  {
   "cell_type": "code",
   "execution_count": null,
   "id": "ea135cd2",
   "metadata": {},
   "outputs": [],
   "source": []
  }
 ],
 "metadata": {
  "kernelspec": {
   "display_name": ".venv",
   "language": "python",
   "name": "python3"
  },
  "language_info": {
   "codemirror_mode": {
    "name": "ipython",
    "version": 3
   },
   "file_extension": ".py",
   "mimetype": "text/x-python",
   "name": "python",
   "nbconvert_exporter": "python",
   "pygments_lexer": "ipython3",
   "version": "3.11.12"
  }
 },
 "nbformat": 4,
 "nbformat_minor": 5
}
